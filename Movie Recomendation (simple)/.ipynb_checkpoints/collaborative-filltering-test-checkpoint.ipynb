{
 "cells": [
  {
   "cell_type": "code",
   "execution_count": 3,
   "metadata": {},
   "outputs": [],
   "source": [
    "import pandas as pd\n",
    "from scipy import sparse\n",
    "from sklearn.metrics.pairwise import cosine_similarity"
   ]
  },
  {
   "cell_type": "code",
   "execution_count": 17,
   "metadata": {},
   "outputs": [
    {
     "data": {
      "text/html": [
       "<div>\n",
       "<style scoped>\n",
       "    .dataframe tbody tr th:only-of-type {\n",
       "        vertical-align: middle;\n",
       "    }\n",
       "\n",
       "    .dataframe tbody tr th {\n",
       "        vertical-align: top;\n",
       "    }\n",
       "\n",
       "    .dataframe thead th {\n",
       "        text-align: right;\n",
       "    }\n",
       "</style>\n",
       "<table border=\"1\" class=\"dataframe\">\n",
       "  <thead>\n",
       "    <tr style=\"text-align: right;\">\n",
       "      <th></th>\n",
       "      <th>action1</th>\n",
       "      <th>action2</th>\n",
       "      <th>action3</th>\n",
       "      <th>romantic1</th>\n",
       "      <th>romantic2</th>\n",
       "      <th>romantic3</th>\n",
       "    </tr>\n",
       "  </thead>\n",
       "  <tbody>\n",
       "    <tr>\n",
       "      <th>user 1</th>\n",
       "      <td>4.0</td>\n",
       "      <td>5.0</td>\n",
       "      <td>3.0</td>\n",
       "      <td>0.0</td>\n",
       "      <td>2.0</td>\n",
       "      <td>1.0</td>\n",
       "    </tr>\n",
       "    <tr>\n",
       "      <th>user 2</th>\n",
       "      <td>5.0</td>\n",
       "      <td>3.0</td>\n",
       "      <td>3.0</td>\n",
       "      <td>2.0</td>\n",
       "      <td>2.0</td>\n",
       "      <td>0.0</td>\n",
       "    </tr>\n",
       "    <tr>\n",
       "      <th>user 3</th>\n",
       "      <td>1.0</td>\n",
       "      <td>0.0</td>\n",
       "      <td>0.0</td>\n",
       "      <td>4.0</td>\n",
       "      <td>5.0</td>\n",
       "      <td>4.0</td>\n",
       "    </tr>\n",
       "    <tr>\n",
       "      <th>user 4</th>\n",
       "      <td>0.0</td>\n",
       "      <td>2.0</td>\n",
       "      <td>1.0</td>\n",
       "      <td>4.0</td>\n",
       "      <td>0.0</td>\n",
       "      <td>3.0</td>\n",
       "    </tr>\n",
       "    <tr>\n",
       "      <th>user 5</th>\n",
       "      <td>1.0</td>\n",
       "      <td>0.0</td>\n",
       "      <td>2.0</td>\n",
       "      <td>3.0</td>\n",
       "      <td>3.0</td>\n",
       "      <td>4.0</td>\n",
       "    </tr>\n",
       "  </tbody>\n",
       "</table>\n",
       "</div>"
      ],
      "text/plain": [
       "        action1  action2  action3  romantic1  romantic2  romantic3\n",
       "user 1      4.0      5.0      3.0        0.0        2.0        1.0\n",
       "user 2      5.0      3.0      3.0        2.0        2.0        0.0\n",
       "user 3      1.0      0.0      0.0        4.0        5.0        4.0\n",
       "user 4      0.0      2.0      1.0        4.0        0.0        3.0\n",
       "user 5      1.0      0.0      2.0        3.0        3.0        4.0"
      ]
     },
     "execution_count": 17,
     "metadata": {},
     "output_type": "execute_result"
    }
   ],
   "source": [
    "ratings = pd.read_csv(\"play_dataset.csv\",index_col=0)\n",
    "ratings = ratings.fillna(0)\n",
    "ratings"
   ]
  },
  {
   "cell_type": "code",
   "execution_count": 18,
   "metadata": {},
   "outputs": [
    {
     "name": "stdout",
     "output_type": "stream",
     "text": [
      "[[1.         0.86584872 0.92214635 0.38646346 0.61180705 0.28237248]\n",
      " [0.86584872 1.         0.87946312 0.33855558 0.40050094 0.2753444 ]\n",
      " [0.92214635 0.87946312 1.         0.4973359  0.57914051 0.45044262]\n",
      " [0.38646346 0.33855558 0.4973359  1.         0.75907212 0.92008741]\n",
      " [0.61180705 0.40050094 0.57914051 0.75907212 1.         0.80952381]\n",
      " [0.28237248 0.2753444  0.45044262 0.92008741 0.80952381 1.        ]]\n"
     ]
    }
   ],
   "source": [
    "# Membuat matriks transpose\n",
    "item_similarity = cosine_similarity(ratings.T)\n",
    "print(item_similarity)"
   ]
  },
  {
   "cell_type": "code",
   "execution_count": 19,
   "metadata": {},
   "outputs": [
    {
     "data": {
      "text/html": [
       "<div>\n",
       "<style scoped>\n",
       "    .dataframe tbody tr th:only-of-type {\n",
       "        vertical-align: middle;\n",
       "    }\n",
       "\n",
       "    .dataframe tbody tr th {\n",
       "        vertical-align: top;\n",
       "    }\n",
       "\n",
       "    .dataframe thead th {\n",
       "        text-align: right;\n",
       "    }\n",
       "</style>\n",
       "<table border=\"1\" class=\"dataframe\">\n",
       "  <thead>\n",
       "    <tr style=\"text-align: right;\">\n",
       "      <th></th>\n",
       "      <th>action1</th>\n",
       "      <th>action2</th>\n",
       "      <th>action3</th>\n",
       "      <th>romantic1</th>\n",
       "      <th>romantic2</th>\n",
       "      <th>romantic3</th>\n",
       "    </tr>\n",
       "  </thead>\n",
       "  <tbody>\n",
       "    <tr>\n",
       "      <th>action1</th>\n",
       "      <td>1.000000</td>\n",
       "      <td>0.865849</td>\n",
       "      <td>0.922146</td>\n",
       "      <td>0.386463</td>\n",
       "      <td>0.611807</td>\n",
       "      <td>0.282372</td>\n",
       "    </tr>\n",
       "    <tr>\n",
       "      <th>action2</th>\n",
       "      <td>0.865849</td>\n",
       "      <td>1.000000</td>\n",
       "      <td>0.879463</td>\n",
       "      <td>0.338556</td>\n",
       "      <td>0.400501</td>\n",
       "      <td>0.275344</td>\n",
       "    </tr>\n",
       "    <tr>\n",
       "      <th>action3</th>\n",
       "      <td>0.922146</td>\n",
       "      <td>0.879463</td>\n",
       "      <td>1.000000</td>\n",
       "      <td>0.497336</td>\n",
       "      <td>0.579141</td>\n",
       "      <td>0.450443</td>\n",
       "    </tr>\n",
       "    <tr>\n",
       "      <th>romantic1</th>\n",
       "      <td>0.386463</td>\n",
       "      <td>0.338556</td>\n",
       "      <td>0.497336</td>\n",
       "      <td>1.000000</td>\n",
       "      <td>0.759072</td>\n",
       "      <td>0.920087</td>\n",
       "    </tr>\n",
       "    <tr>\n",
       "      <th>romantic2</th>\n",
       "      <td>0.611807</td>\n",
       "      <td>0.400501</td>\n",
       "      <td>0.579141</td>\n",
       "      <td>0.759072</td>\n",
       "      <td>1.000000</td>\n",
       "      <td>0.809524</td>\n",
       "    </tr>\n",
       "    <tr>\n",
       "      <th>romantic3</th>\n",
       "      <td>0.282372</td>\n",
       "      <td>0.275344</td>\n",
       "      <td>0.450443</td>\n",
       "      <td>0.920087</td>\n",
       "      <td>0.809524</td>\n",
       "      <td>1.000000</td>\n",
       "    </tr>\n",
       "  </tbody>\n",
       "</table>\n",
       "</div>"
      ],
      "text/plain": [
       "            action1   action2   action3  romantic1  romantic2  romantic3\n",
       "action1    1.000000  0.865849  0.922146   0.386463   0.611807   0.282372\n",
       "action2    0.865849  1.000000  0.879463   0.338556   0.400501   0.275344\n",
       "action3    0.922146  0.879463  1.000000   0.497336   0.579141   0.450443\n",
       "romantic1  0.386463  0.338556  0.497336   1.000000   0.759072   0.920087\n",
       "romantic2  0.611807  0.400501  0.579141   0.759072   1.000000   0.809524\n",
       "romantic3  0.282372  0.275344  0.450443   0.920087   0.809524   1.000000"
      ]
     },
     "execution_count": 19,
     "metadata": {},
     "output_type": "execute_result"
    }
   ],
   "source": [
    "item_similarity_df = pd.DataFrame(item_similarity,index=ratings.columns,columns=ratings.columns)\n",
    "item_similarity_df\n",
    "\n",
    "# Ketika di-run akan menghasilkan final Data Frame item similarity\n",
    "# contoh pembacaan :\n",
    "# action 1 & action 1 memiliki 100% similarity (tinggi, karena item yg sama)\n",
    "# action 1 & action 2 memiliki 86% similarity (tinggi, karena genre sama)\n",
    "# action 1 & romance 3 memiliki 20% similarity (rendah, karena berbeda genre)"
   ]
  },
  {
   "cell_type": "code",
   "execution_count": 21,
   "metadata": {},
   "outputs": [
    {
     "name": "stdout",
     "output_type": "stream",
     "text": [
      "romantic3    1.000000\n",
      "romantic1    0.920087\n",
      "romantic2    0.809524\n",
      "action3      0.450443\n",
      "action1      0.282372\n",
      "action2      0.275344\n",
      "Name: romantic3, dtype: float64\n"
     ]
    }
   ],
   "source": [
    "# membuat rekomendasi\n",
    "# membuat metode \"get_simillar_movie\"\n",
    "\n",
    "def get_similar_movies(movie_name,user_rating):\n",
    "    similar_score = item_similarity_df[movie_name]*(user_rating) # 2.5= nilai tengah2 yang mungkin diberi dari skala 1-5\n",
    "    similar_score = similar_score.sort_values(ascending=False)\n",
    "    \n",
    "    return similar_score\n",
    "\n",
    "print(get_similar_movies(\"romantic3\",1))\n",
    "\n",
    "# ketika di run akan menghasilkan urutan film berdasarkan tingkat similarity"
   ]
  },
  {
   "cell_type": "code",
   "execution_count": 23,
   "metadata": {},
   "outputs": [
    {
     "data": {
      "text/plain": [
       "action1      5.998271\n",
       "action3      5.687208\n",
       "action2      5.068300\n",
       "romantic2    4.818107\n",
       "romantic1    3.691389\n",
       "romantic3    3.141474\n",
       "dtype: float64"
      ]
     },
     "execution_count": 23,
     "metadata": {},
     "output_type": "execute_result"
    }
   ],
   "source": [
    "# membuat rekomendasi dari history yg ditonton (beberapa film)\n",
    "\n",
    "pecinta_action = [(\"action1\",5),(\"romantic2\",1),(\"romantic1\",1)]\n",
    "\n",
    "similar_movies = pd.DataFrame()\n",
    "\n",
    "for movie,rating in pecinta_action:\n",
    "    similar_movies = similar_movies.append(get_similar_movies(movie,rating), ignore_index=True)\n",
    "    \n",
    "similar_movies.head()\n",
    "similar_movies.sum().sort_values(ascending=False)"
   ]
  },
  {
   "cell_type": "code",
   "execution_count": null,
   "metadata": {},
   "outputs": [],
   "source": []
  }
 ],
 "metadata": {
  "kernelspec": {
   "display_name": "Python 3",
   "language": "python",
   "name": "python3"
  },
  "language_info": {
   "codemirror_mode": {
    "name": "ipython",
    "version": 3
   },
   "file_extension": ".py",
   "mimetype": "text/x-python",
   "name": "python",
   "nbconvert_exporter": "python",
   "pygments_lexer": "ipython3",
   "version": "3.8.5"
  }
 },
 "nbformat": 4,
 "nbformat_minor": 4
}
